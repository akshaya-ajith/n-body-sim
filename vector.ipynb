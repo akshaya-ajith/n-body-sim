{
 "cells": [
  {
   "cell_type": "code",
   "execution_count": 3,
   "id": "4f01d1da-acf6-4e3e-bdb9-9eede3956cac",
   "metadata": {},
   "outputs": [],
   "source": [
    "import math"
   ]
  },
  {
   "cell_type": "code",
   "execution_count": 5,
   "id": "1750683a-bd53-492d-a542-d2e5e32e78a9",
   "metadata": {},
   "outputs": [],
   "source": [
    "class vector:\n",
    "    def __init__(self, coord):\n",
    "        self._coord = coord[:]\n",
    "        self._dim = len(coord)\n",
    "    def __get_item__(self, idx):\n",
    "        return self._coord[i]\n",
    "\n",
    "    #overloads add\n",
    "    def __add__(self, other):\n",
    "        result = []\n",
    "        for i in range(self._coord):\n",
    "            result[i] = other._coord[i] + self._coord[i]\n",
    "        return vector(result)\n",
    "\n",
    "    #overloads subtraction\n",
    "    def __sub__(self, other):\n",
    "        result = []\n",
    "        for i in range(self._coord):\n",
    "            result[i] = self._coord[i] - other._coord[i]\n",
    "        return vector(result)\n",
    "\n",
    "    #returns the multiplication of vector\n",
    "    def scale(num):\n",
    "        result = []\n",
    "        for i in range(self._coord):\n",
    "            result[i] = self._coord[i] * num\n",
    "        return vector(result)\n",
    "\n",
    "    #returns the dot between two vectors\n",
    "    def dot(self, other):\n",
    "        result = 0\n",
    "        for i in range(self._n):\n",
    "            result += self._coords[i] * other._coords[i]\n",
    "        return result\n",
    "\n",
    "    #returns magnitude\n",
    "    def mag(self):\n",
    "        return math.sqrt(self.dot(self))\n",
    "\n",
    "    # returns unit vector\n",
    "    def unit_v(self):\n",
    "        return self.scale(1.0 / mag(self))\n",
    "    \n",
    "    # returns string representation\n",
    "    def __str__(self):\n",
    "        return str(self._coords)\n",
    "        \n",
    "    # returns dimension\n",
    "    def __len__(self):\n",
    "        return self._n\n",
    "        "
   ]
  },
  {
   "cell_type": "code",
   "execution_count": null,
   "id": "e17c9094-bd0e-4562-879f-1a51947d0668",
   "metadata": {},
   "outputs": [],
   "source": []
  }
 ],
 "metadata": {
  "kernelspec": {
   "display_name": "Python 3 (ipykernel)",
   "language": "python",
   "name": "python3"
  },
  "language_info": {
   "codemirror_mode": {
    "name": "ipython",
    "version": 3
   },
   "file_extension": ".py",
   "mimetype": "text/x-python",
   "name": "python",
   "nbconvert_exporter": "python",
   "pygments_lexer": "ipython3",
   "version": "3.10.14"
  }
 },
 "nbformat": 4,
 "nbformat_minor": 5
}
