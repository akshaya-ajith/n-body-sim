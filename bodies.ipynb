{
 "cells": [
  {
   "cell_type": "code",
   "execution_count": 4,
   "id": "35a1b9ca-b9de-45a0-bf30-8fe47eaf8cf6",
   "metadata": {},
   "outputs": [],
   "source": [
    "import math\n",
    "class vector:\n",
    "    def __init__(self, coord):\n",
    "        self._coord = coord[:]\n",
    "        self._dim = len(coord)\n",
    "    def __get_item__(self, idx):\n",
    "        return self._coord[i]\n",
    "\n",
    "    #overloads add\n",
    "    def __add__(self, other):\n",
    "        result = []\n",
    "        for i in range(self._coord):\n",
    "            result[i] = other._coord[i] + self._coord[i]\n",
    "        return vector(result)\n",
    "\n",
    "    #overloads subtraction\n",
    "    def __sub__(self, other):\n",
    "        result = []\n",
    "        for i in range(self._coord):\n",
    "            result[i] = self._coord[i] - other._coord[i]\n",
    "        return vector(result)\n",
    "\n",
    "    #returns the multiplication of vector\n",
    "    def scale(num):\n",
    "        result = []\n",
    "        for i in range(self._coord):\n",
    "            result[i] = self._coord[i] * num\n",
    "        return vector(result)\n",
    "\n",
    "    #returns the dot etween two vectors\n",
    "    def dot(self, other):\n",
    "        result = 0\n",
    "        for i in range(self._dim):\n",
    "            result += self._coord[i] * other._coord[i]\n",
    "        return result\n",
    "\n",
    "    #returns magnitude\n",
    "    def mag(self):\n",
    "        return math.sqrt(self.dot(self))\n",
    "\n",
    "    # returns unit vector\n",
    "    def unit_v(self):\n",
    "        return self.scale(1.0 / mag(self))\n",
    "    \n",
    "    # returns string representation\n",
    "    def __str__(self):\n",
    "        return str(self._coord)\n",
    "        \n",
    "    # returns dimension\n",
    "    def __len__(self):\n",
    "        return self._n\n",
    "\n",
    "    def __repr__(self):\n",
    "        return f\"coord:{self._coord}, mag:{self.mag()}\"\n",
    "        "
   ]
  },
  {
   "cell_type": "code",
   "execution_count": 5,
   "id": "38f494b5-faac-4af9-9b70-95e7a2263120",
   "metadata": {},
   "outputs": [
    {
     "data": {
      "text/plain": [
       "coord:[2, 5, 3], mag:6.164414002968976"
      ]
     },
     "execution_count": 5,
     "metadata": {},
     "output_type": "execute_result"
    }
   ],
   "source": [
    "vector([2,5,3])"
   ]
  },
  {
   "cell_type": "code",
   "execution_count": 2,
   "id": "9f29ee50-b54b-4162-9fe8-40bd6fcb1743",
   "metadata": {},
   "outputs": [],
   "source": [
    "G_CONSTANT = 6.673*(10**-11)\n",
    "#################### celestial bodies (objects in universe)\n",
    "class Body:\n",
    "    def __init__(self, mass, pos, vel, acc):\n",
    "        self.m = mass\n",
    "        self.p = pos\n",
    "        #self.prev_pos = prev_pos (for Verlet, but without user input)\n",
    "        self._v = vel\n",
    "        self._a = acc #for Verlet\n",
    "        #self.prev_acc = prev_acc (for Verlet, but without user input)\n",
    "\n",
    "    # In order to find rad from Body 1 to Body 2\n",
    "    def distance(self, other):\n",
    "        return mag(self.p - other.p)\n",
    "\n",
    "    def update_acc(self, other):\n",
    "        self._prev_a = self._a\n",
    "        a_net = vector([0,0])\n",
    "        \n",
    "        if not instance(other, list):\n",
    "            other = [other]\n",
    "        \n",
    "        for body in other:\n",
    "            r12 = distance(body)\n",
    "            f_mag = G * (self._m * body._m) / (r12*r12)\n",
    "            a_mag = f_mag / self._m\n",
    "            #derive next a from F = ma\n",
    "            a_net += a_mag * r12.unit_v()\n",
    "\n",
    "        self._a = a_net\n",
    "\n",
    "    def update_pos(self, other, dt):\n",
    "        self._prev_p = self.p\n",
    "\n",
    "        update_acc(other)\n",
    "        self._v += self._a * dt\n",
    "\n",
    "        self.p+= (self._v*dt + 0.5 * self._a * dt *dt)\n",
    "\n",
    "    def __repr__(self):\n",
    "        return f\"Body(mass={self.m}, pos={self.p}, acc={self._a})\"\n",
    "\n",
    "    def check_coll(self, other):\n",
    "        if(self.pos == other.pos): \n",
    "            #derived from elastic collisions, where momentum (mv) is conserved:\n",
    "            vf1 = 2*(self._v - other._v) / (1+self.m/other.m) + self._v\n",
    "            vf2 = 2*(self._v - other._v) / (1+other.m/self.m) +other._v\n",
    "            self._v = vf1\n",
    "            other._v = vf2\n",
    "\n",
    "        \n",
    "        "
   ]
  },
  {
   "cell_type": "code",
   "execution_count": 14,
   "id": "946bfa68-0340-4bde-bb47-b463d286add8",
   "metadata": {},
   "outputs": [
    {
     "data": {
      "text/plain": [
       "[Body(mass=30, pos=[52, 148], acc=[0.0, 0.0]),\n",
       " Body(mass=30, pos=[139, 13], acc=[0.0, 0.0]),\n",
       " Body(mass=42, pos=[125, 82], acc=[0.0, 0.0]),\n",
       " Body(mass=49, pos=[106, 145], acc=[0.0, 0.0]),\n",
       " Body(mass=43, pos=[102, 62], acc=[0.0, 0.0])]"
      ]
     },
     "execution_count": 14,
     "metadata": {},
     "output_type": "execute_result"
    }
   ],
   "source": [
    "import random\n",
    "\n",
    "####################### Universe: collection of multiple bodies\n",
    "class Universe:\n",
    "    def __init__(self, dt, bodies, total_e):\n",
    "        self._dt = dt\n",
    "        self.bodies = bodies[:]\n",
    "        \n",
    "    def set_dt(self, dt):\n",
    "        self._dt = dt\n",
    "        \n",
    "    def init_body(count):\n",
    "        for body in range(count):\n",
    "            rand_x = random.randint(5,150)\n",
    "            rand_y = random.randint(5,150)\n",
    "            rand_velx = random.random()\n",
    "            rand_vely = random.random()\n",
    "            rand_mass = random.randint(5, 50)\n",
    "            self.bodies.append(Body(rand_mass, vector([rand_x, rand_y]), vector([rand_velx, rand_vely]), vector([0.0,0.0])))\n",
    "    \n",
    "    def timelapse():\n",
    "        dt = 0.00005\n",
    "        for body2 in self.bodies[1:]:\n",
    "            body1.update_pos(body2)\n",
    "            \n",
    "                \n",
    "        \n",
    "\n",
    "        \n",
    "####################### main\n",
    "all_bodies = []\n",
    "    \n",
    "all_bodies\n"
   ]
  },
  {
   "cell_type": "code",
   "execution_count": null,
   "id": "c68910f5-8304-40f5-868b-c70f1cf3a1c2",
   "metadata": {},
   "outputs": [],
   "source": [
    "\n",
    "\n",
    "\n",
    "    "
   ]
  }
 ],
 "metadata": {
  "kernelspec": {
   "display_name": "Python 3 (ipykernel)",
   "language": "python",
   "name": "python3"
  },
  "language_info": {
   "codemirror_mode": {
    "name": "ipython",
    "version": 3
   },
   "file_extension": ".py",
   "mimetype": "text/x-python",
   "name": "python",
   "nbconvert_exporter": "python",
   "pygments_lexer": "ipython3",
   "version": "3.10.14"
  }
 },
 "nbformat": 4,
 "nbformat_minor": 5
}
