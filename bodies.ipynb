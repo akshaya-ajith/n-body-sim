{
 "cells": [
  {
   "cell_type": "code",
   "execution_count": 1,
   "id": "9f29ee50-b54b-4162-9fe8-40bd6fcb1743",
   "metadata": {},
   "outputs": [],
   "source": [
    "class Bodies:\n",
    "    def __init__(self, mass, pos, prev_pos, vel, acc, prev_acc, rad):\n",
    "        self.mass = mass\n",
    "        self.pos = pos\n",
    "        self.prev_pos = prev_pos #for Verlet\n",
    "        self.vel = vel\n",
    "        self.acc = acc #for Verlet\n",
    "        self.prev_acc = prev_acc #for Verlet\n",
    "        self.rad = rad"
   ]
  },
  {
   "cell_type": "code",
   "execution_count": null,
   "id": "946bfa68-0340-4bde-bb47-b463d286add8",
   "metadata": {},
   "outputs": [],
   "source": []
  }
 ],
 "metadata": {
  "kernelspec": {
   "display_name": "Python 3 (ipykernel)",
   "language": "python",
   "name": "python3"
  },
  "language_info": {
   "codemirror_mode": {
    "name": "ipython",
    "version": 3
   },
   "file_extension": ".py",
   "mimetype": "text/x-python",
   "name": "python",
   "nbconvert_exporter": "python",
   "pygments_lexer": "ipython3",
   "version": "3.10.14"
  }
 },
 "nbformat": 4,
 "nbformat_minor": 5
}
