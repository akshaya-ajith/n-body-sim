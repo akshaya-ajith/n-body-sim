{
 "cells": [
  {
   "cell_type": "code",
   "execution_count": null,
   "id": "67f365f3-9080-4c99-ab98-d4f179c33c7c",
   "metadata": {},
   "outputs": [],
   "source": [
    "####################### Universe: collection of multiple bodies\n",
    "\n"
   ]
  }
 ],
 "metadata": {
  "kernelspec": {
   "display_name": "Python 3 (ipykernel)",
   "language": "python",
   "name": "python3"
  },
  "language_info": {
   "codemirror_mode": {
    "name": "ipython",
    "version": 3
   },
   "file_extension": ".py",
   "mimetype": "text/x-python",
   "name": "python",
   "nbconvert_exporter": "python",
   "pygments_lexer": "ipython3",
   "version": "3.10.14"
  }
 },
 "nbformat": 4,
 "nbformat_minor": 5
}
