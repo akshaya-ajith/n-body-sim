{
 "cells": [
  {
   "cell_type": "code",
   "execution_count": 3,
   "id": "67f365f3-9080-4c99-ab98-d4f179c33c7c",
   "metadata": {},
   "outputs": [
    {
     "ename": "NameError",
     "evalue": "name 'Body' is not defined",
     "output_type": "error",
     "traceback": [
      "\u001b[0;31m---------------------------------------------------------------------------\u001b[0m",
      "\u001b[0;31mNameError\u001b[0m                                 Traceback (most recent call last)",
      "Cell \u001b[0;32mIn[3], line 14\u001b[0m\n\u001b[1;32m     10\u001b[0m     rand_vely \u001b[38;5;241m=\u001b[39m random\u001b[38;5;241m.\u001b[39mrandom()\n\u001b[1;32m     11\u001b[0m     rand_mass \u001b[38;5;241m=\u001b[39m random\u001b[38;5;241m.\u001b[39mrandint(\u001b[38;5;241m5\u001b[39m, \u001b[38;5;241m50\u001b[39m)\n\u001b[0;32m---> 14\u001b[0m     all_bodies\u001b[38;5;241m.\u001b[39mappend(\u001b[43mBody\u001b[49m(rand_mass, vector([rand_x, rand_y]), vector([rand_velx, rand_vely]), vector([\u001b[38;5;241m0.0\u001b[39m,\u001b[38;5;241m0.0\u001b[39m])))\n\u001b[1;32m     15\u001b[0m all_bodies\n",
      "\u001b[0;31mNameError\u001b[0m: name 'Body' is not defined"
     ]
    }
   ],
   "source": [
    "import random\n",
    "\n",
    "####################### Universe: collection of multiple bodies\n",
    "all_bodies = []\n",
    "\n",
    "for body in range(5):\n",
    "    rand_x = random.randint(5,150)\n",
    "    rand_y = random.randint(5,150)\n",
    "    rand_velx = random.random()\n",
    "    rand_vely = random.random()\n",
    "    rand_mass = random.randint(5, 50)\n",
    "    \n",
    "    \n",
    "    all_bodies.append(Body(rand_mass, vector([rand_x, rand_y]), vector([rand_velx, rand_vely]), vector([0.0,0.0])))\n",
    "all_bodies\n"
   ]
  },
  {
   "cell_type": "code",
   "execution_count": null,
   "id": "3d6e2aa2-ab7f-4726-a442-9a7ab75201ea",
   "metadata": {},
   "outputs": [],
   "source": []
  }
 ],
 "metadata": {
  "kernelspec": {
   "display_name": "Python 3 (ipykernel)",
   "language": "python",
   "name": "python3"
  },
  "language_info": {
   "codemirror_mode": {
    "name": "ipython",
    "version": 3
   },
   "file_extension": ".py",
   "mimetype": "text/x-python",
   "name": "python",
   "nbconvert_exporter": "python",
   "pygments_lexer": "ipython3",
   "version": "3.10.14"
  }
 },
 "nbformat": 4,
 "nbformat_minor": 5
}
