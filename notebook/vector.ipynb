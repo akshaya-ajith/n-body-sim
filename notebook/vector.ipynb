{
 "cells": [
  {
   "cell_type": "code",
   "execution_count": 6,
   "id": "1750683a-bd53-492d-a542-d2e5e32e78a9",
   "metadata": {},
   "outputs": [
    {
     "data": {
      "text/plain": [
       "4.301162633521313"
      ]
     },
     "execution_count": 6,
     "metadata": {},
     "output_type": "execute_result"
    }
   ],
   "source": [
    "import math\n",
    "class vector:\n",
    "    def __init__(self, coord):\n",
    "        self._coord = coord[:]\n",
    "        self._dim = len(coord)\n",
    "    def __get_item__(self, idx):\n",
    "        return self._coord[i]\n",
    "\n",
    "    #overloads add\n",
    "    def __add__(self, other):\n",
    "        result = []\n",
    "        for i in range(self._coord):\n",
    "            result[i] = other._coord[i] + self._coord[i]\n",
    "        return vector(result)\n",
    "\n",
    "    #overloads subtraction\n",
    "    def __sub__(self, other):\n",
    "        result = []\n",
    "        for i in range(self._coord):\n",
    "            result[i] = self._coord[i] - other._coord[i]\n",
    "        return vector(result)\n",
    "\n",
    "    #returns the multiplication of vector\n",
    "    def scale(num):\n",
    "        result = []\n",
    "        for i in range(self._coord):\n",
    "            result[i] = self._coord[i] * num\n",
    "        return vector(result)\n",
    "\n",
    "    #returns the dot between two vectors\n",
    "    def dot(self, other):\n",
    "        result = 0\n",
    "        for i in range(self._dim):\n",
    "            result += self._coord[i] * other._coord[i]\n",
    "        return result\n",
    "\n",
    "    #returns magnitude\n",
    "    def mag(self):\n",
    "        return math.sqrt(self.dot(self))\n",
    "\n",
    "    # returns unit vector\n",
    "    def unit_v(self):\n",
    "        return self.scale(1.0 / mag(self))\n",
    "    \n",
    "    # returns string representation\n",
    "    def __str__(self):\n",
    "        return str(self._coord)\n",
    "        \n",
    "    # returns dimension\n",
    "    def __len__(self):\n",
    "        return self._n\n",
    "\n",
    "    def __repr__(self):\n",
    "        return f\"coord:{self._coord}, mag:{self.mag()}\" "
   ]
  },
  {
   "cell_type": "code",
   "execution_count": 2,
   "id": "e17c9094-bd0e-4562-879f-1a51947d0668",
   "metadata": {},
   "outputs": [
    {
     "ename": "NameError",
     "evalue": "name 'vector' is not defined",
     "output_type": "error",
     "traceback": [
      "\u001b[0;31m---------------------------------------------------------------------------\u001b[0m",
      "\u001b[0;31mNameError\u001b[0m                                 Traceback (most recent call last)",
      "Cell \u001b[0;32mIn[2], line 1\u001b[0m\n\u001b[0;32m----> 1\u001b[0m v \u001b[38;5;241m=\u001b[39m \u001b[43mvector\u001b[49m([\u001b[38;5;241m3.5\u001b[39m,\u001b[38;5;241m2.6\u001b[39m])\n\u001b[1;32m      2\u001b[0m v2 \u001b[38;5;241m=\u001b[39m vector([\u001b[38;5;241m-\u001b[39m\u001b[38;5;241m2.5\u001b[39m, \u001b[38;5;241m-\u001b[39m\u001b[38;5;241m3.5\u001b[39m])\n\u001b[1;32m      4\u001b[0m v\u001b[38;5;241m.\u001b[39mmag()\n",
      "\u001b[0;31mNameError\u001b[0m: name 'vector' is not defined"
     ]
    }
   ],
   "source": []
  },
  {
   "cell_type": "code",
   "execution_count": null,
   "id": "9cbb30b3-8bd2-45a2-b681-b4baf6a7db4b",
   "metadata": {},
   "outputs": [],
   "source": []
  }
 ],
 "metadata": {
  "kernelspec": {
   "display_name": "Python 3 (ipykernel)",
   "language": "python",
   "name": "python3"
  },
  "language_info": {
   "codemirror_mode": {
    "name": "ipython",
    "version": 3
   },
   "file_extension": ".py",
   "mimetype": "text/x-python",
   "name": "python",
   "nbconvert_exporter": "python",
   "pygments_lexer": "ipython3",
   "version": "3.10.14"
  }
 },
 "nbformat": 4,
 "nbformat_minor": 5
}
